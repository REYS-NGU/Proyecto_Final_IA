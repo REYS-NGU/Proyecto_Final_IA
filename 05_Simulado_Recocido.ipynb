{
 "cells": [
  {
   "cell_type": "markdown",
   "metadata": {},
   "source": [
    "# **Simulado Recocido**"
   ]
  },
  {
   "cell_type": "markdown",
   "metadata": {},
   "source": [
    "### **Aplicado a el problema de las N-Reinas**"
   ]
  },
  {
   "cell_type": "code",
   "execution_count": 68,
   "metadata": {},
   "outputs": [],
   "source": [
    "import random\n",
    "import math\n",
    "import sys"
   ]
  },
  {
   "cell_type": "markdown",
   "metadata": {},
   "source": [
    "Visualizar la solución en un tablero"
   ]
  },
  {
   "cell_type": "code",
   "execution_count": 69,
   "metadata": {},
   "outputs": [],
   "source": [
    "def print_board(solution):\n",
    "    n = len(solution)\n",
    "    board = []\n",
    "    for row in range(n):\n",
    "        line = \"\"\n",
    "        for col in range(n):\n",
    "            if solution[col] == row:\n",
    "                line += \"Q \"\n",
    "            else:\n",
    "                line += \". \"\n",
    "        board.append(line)\n",
    "    return \"\\n\".join(board)"
   ]
  },
  {
   "cell_type": "markdown",
   "metadata": {},
   "source": [
    "Genera una solución inicial aleatoria para N-Reinas.\n",
    "Cada columna tendrá una reina en una fila aleatoria."
   ]
  },
  {
   "cell_type": "code",
   "execution_count": 70,
   "metadata": {},
   "outputs": [],
   "source": [
    "def initial_solution(n):\n",
    "    solution = [random.randint(0, n-1) for _ in range(n)]\n",
    "    return solution"
   ]
  },
  {
   "cell_type": "markdown",
   "metadata": {},
   "source": [
    "Calcula el número de pares de reinas que se atacan entre sí."
   ]
  },
  {
   "cell_type": "code",
   "execution_count": 71,
   "metadata": {},
   "outputs": [],
   "source": [
    "def cost(solution):\n",
    "    n = len(solution)\n",
    "    attacks = 0\n",
    "    \n",
    "    for col1 in range(n):\n",
    "        for col2 in range(col1 + 1, n):\n",
    "            row1 = solution[col1]\n",
    "            row2 = solution[col2]\n",
    "            \n",
    "            # Mismo fila?\n",
    "            if row1 == row2:\n",
    "                attacks += 1\n",
    "            \n",
    "            # Misma diagonal?\n",
    "            if abs(col1 - col2) == abs(row1 - row2):\n",
    "                attacks += 1\n",
    "    \n",
    "    return attacks"
   ]
  },
  {
   "cell_type": "markdown",
   "metadata": {},
   "source": [
    "Genera una solución vecina cambiando la fila de una reina al azar."
   ]
  },
  {
   "cell_type": "code",
   "execution_count": 72,
   "metadata": {},
   "outputs": [],
   "source": [
    "def neighbor(solution):\n",
    "    n = len(solution)\n",
    "    new_solution = solution[:]\n",
    "    col = random.randint(0, n-1)\n",
    "    new_row = random.randint(0, n-1)\n",
    "    new_solution[col] = new_row\n",
    "    return new_solution"
   ]
  },
  {
   "cell_type": "markdown",
   "metadata": {},
   "source": [
    "Probabilidad de aceptar una solución peor."
   ]
  },
  {
   "cell_type": "code",
   "execution_count": 73,
   "metadata": {},
   "outputs": [],
   "source": [
    "def acceptance_probability(old_cost, new_cost, temperature):\n",
    "    if new_cost < old_cost:\n",
    "        return 1.0\n",
    "    else:\n",
    "        return math.exp((old_cost - new_cost) / temperature)"
   ]
  },
  {
   "cell_type": "code",
   "execution_count": 74,
   "metadata": {},
   "outputs": [],
   "source": [
    "def simulated_annealing(n, initial_temp=1000.0, cooling_rate=0.995, stop_temp=1e-3, max_iterations=100000):\n",
    "    current_solution = initial_solution(n)\n",
    "    current_cost = cost(current_solution)\n",
    "    best_solution = current_solution[:]\n",
    "    best_cost = current_cost\n",
    "    \n",
    "    temperature = initial_temp\n",
    "    iterations = 0\n",
    "    \n",
    "    while temperature > stop_temp and iterations < max_iterations and best_cost > 0:\n",
    "        candidate = neighbor(current_solution)\n",
    "        candidate_cost = cost(candidate)\n",
    "        \n",
    "        if random.random() < acceptance_probability(current_cost, candidate_cost, temperature):\n",
    "            current_solution = candidate\n",
    "            current_cost = candidate_cost\n",
    "            \n",
    "            if current_cost < best_cost:\n",
    "                best_solution = current_solution[:]\n",
    "                best_cost = current_cost\n",
    "        \n",
    "        temperature *= cooling_rate\n",
    "        iterations += 1\n",
    "    \n",
    "    return best_solution, best_cost, iterations"
   ]
  },
  {
   "cell_type": "code",
   "execution_count": 75,
   "metadata": {},
   "outputs": [
    {
     "name": "stdout",
     "output_type": "stream",
     "text": [
      "N: 6\n",
      "Mejor solución encontrada: [1, 3, 5, 0, 2, 4]\n",
      "Ataques: 0\n",
      "Iteraciones realizadas: 1641\n",
      "Se encontró una solución óptima (sin ataques).\n",
      "Tablero:\n",
      ". . . Q . . \n",
      "Q . . . . . \n",
      ". . . . Q . \n",
      ". Q . . . . \n",
      ". . . . . Q \n",
      ". . Q . . . \n"
     ]
    }
   ],
   "source": [
    "# Ejemplo: resolver para N=8\n",
    "n = 6\n",
    "best_solution, best_cost, iterations = simulated_annealing(n, initial_temp=1000, cooling_rate=0.995, stop_temp=1e-5, max_iterations=200000)\n",
    "\n",
    "print(\"N:\", n)\n",
    "print(\"Mejor solución encontrada:\", best_solution)\n",
    "print(\"Ataques:\", best_cost)\n",
    "print(\"Iteraciones realizadas:\", iterations)\n",
    "\n",
    "if best_cost == 0:\n",
    "    print(\"Se encontró una solución óptima (sin ataques).\")\n",
    "else:\n",
    "    print(\"No se encontró solución perfecta, pero esta es la mejor hallada.\")\n",
    "\n",
    "print(\"Tablero:\")\n",
    "print(print_board(best_solution))"
   ]
  },
  {
   "cell_type": "code",
   "execution_count": null,
   "metadata": {},
   "outputs": [],
   "source": []
  }
 ],
 "metadata": {
  "kernelspec": {
   "display_name": "Artificial_Intelligence",
   "language": "python",
   "name": "artificial_intelligence"
  },
  "language_info": {
   "codemirror_mode": {
    "name": "ipython",
    "version": 3
   },
   "file_extension": ".py",
   "mimetype": "text/x-python",
   "name": "python",
   "nbconvert_exporter": "python",
   "pygments_lexer": "ipython3",
   "version": "3.9.20"
  }
 },
 "nbformat": 4,
 "nbformat_minor": 2
}
