{
 "cells": [
  {
   "cell_type": "markdown",
   "metadata": {},
   "source": [
    "# **Aplicando PCA al dataset**"
   ]
  },
  {
   "cell_type": "code",
   "execution_count": 11,
   "metadata": {},
   "outputs": [],
   "source": [
    "import pandas as pd\n",
    "import numpy as np\n",
    "from sklearn.decomposition import PCA\n",
    "from sklearn.model_selection import train_test_split\n",
    "from sklearn.linear_model import LinearRegression\n",
    "from sklearn.metrics import mean_squared_error, r2_score"
   ]
  },
  {
   "cell_type": "markdown",
   "metadata": {},
   "source": [
    "##### **Cargamos los datos**"
   ]
  },
  {
   "cell_type": "code",
   "execution_count": 12,
   "metadata": {},
   "outputs": [],
   "source": [
    "# Cargar datos\n",
    "X = pd.read_csv(\"Data/X_data.csv\")\n",
    "y = pd.read_csv(\"Data/y_data.csv\").values.flatten()\n",
    "\n",
    "# Lista de componentes a probar\n",
    "componentes_lista = [12, 10, 11, 9, 5, 3]"
   ]
  },
  {
   "cell_type": "markdown",
   "metadata": {},
   "source": [
    "### **Función para evaluar PCA y regresión lineal**"
   ]
  },
  {
   "cell_type": "code",
   "execution_count": 13,
   "metadata": {},
   "outputs": [],
   "source": [
    "def evaluar_pca(X, y, n_componentes, n_ejecuciones=5):\n",
    "    resultados = []\n",
    "    for ejecucion in range(n_ejecuciones):\n",
    "        # División de datos\n",
    "        X_train, X_test, y_train, y_test = train_test_split(X, y, test_size=0.2, random_state=ejecucion)\n",
    "        \n",
    "        # Aplicar PCA\n",
    "        pca = PCA(n_components=n_componentes)\n",
    "        X_train_pca = pca.fit_transform(X_train)\n",
    "        X_test_pca = pca.transform(X_test)\n",
    "        \n",
    "        # Modelo de regresión lineal\n",
    "        model = LinearRegression()\n",
    "        model.fit(X_train_pca, y_train)\n",
    "        y_pred = model.predict(X_test_pca)\n",
    "        \n",
    "        # Métricas de rendimiento\n",
    "        mse = mean_squared_error(y_test, y_pred)\n",
    "        r2 = r2_score(y_test, y_pred)\n",
    "        resultados.append({'Ejecución': ejecucion + 1, 'MSE': mse, 'R²': r2})\n",
    "    \n",
    "    # Promedio y mediana de las ejecuciones\n",
    "    resultados_df = pd.DataFrame(resultados)\n",
    "    print(f\"\\nResultados para {n_componentes} Componentes:\")\n",
    "    print(resultados_df)\n",
    "    print(f\"Promedio MSE: {resultados_df['MSE'].mean():.4f}, Promedio R²: {resultados_df['R²'].mean():.4f}\")\n",
    "    print(f\"Mediana MSE: {resultados_df['MSE'].median():.4f}, Mediana R²: {resultados_df['R²'].median():.4f}\")\n",
    "    return resultados_df"
   ]
  },
  {
   "cell_type": "markdown",
   "metadata": {},
   "source": [
    "#### **Ejecutar PCA con diferentes cantidades de componentes**"
   ]
  },
  {
   "cell_type": "code",
   "execution_count": 14,
   "metadata": {},
   "outputs": [
    {
     "name": "stdout",
     "output_type": "stream",
     "text": [
      "\n",
      "Resultados para 12 Componentes:\n",
      "   Ejecución          MSE        R²\n",
      "0          1  2627.987870  0.961365\n",
      "1          2  2840.201035  0.962851\n",
      "2          3  2779.856214  0.959801\n",
      "3          4  2628.882177  0.969544\n",
      "4          5  2610.588703  0.963194\n",
      "Promedio MSE: 2697.5032, Promedio R²: 0.9634\n",
      "Mediana MSE: 2628.8822, Mediana R²: 0.9629\n",
      "\n",
      "Resultados para 10 Componentes:\n",
      "   Ejecución          MSE        R²\n",
      "0          1  2714.562165  0.960092\n",
      "1          2  2882.951481  0.962292\n",
      "2          3  3020.987531  0.956315\n",
      "3          4  2654.332272  0.969249\n",
      "4          5  2631.805617  0.962895\n",
      "Promedio MSE: 2780.9278, Promedio R²: 0.9622\n",
      "Mediana MSE: 2714.5622, Mediana R²: 0.9623\n",
      "\n",
      "Resultados para 11 Componentes:\n",
      "   Ejecución          MSE        R²\n",
      "0          1  2697.095694  0.960349\n",
      "1          2  2844.284562  0.962798\n",
      "2          3  2820.070683  0.959220\n",
      "3          4  2626.784329  0.969568\n",
      "4          5  2625.413038  0.962985\n",
      "Promedio MSE: 2722.7297, Promedio R²: 0.9630\n",
      "Mediana MSE: 2697.0957, Mediana R²: 0.9628\n",
      "\n",
      "Resultados para 9 Componentes:\n",
      "   Ejecución          MSE        R²\n",
      "0          1  5991.037397  0.911923\n",
      "1          2  4694.739184  0.938594\n",
      "2          3  7565.122588  0.890603\n",
      "3          4  6895.987732  0.920109\n",
      "4          5  3642.115001  0.948651\n",
      "Promedio MSE: 5757.8004, Promedio R²: 0.9220\n",
      "Mediana MSE: 5991.0374, Mediana R²: 0.9201\n",
      "\n",
      "Resultados para 5 Componentes:\n",
      "   Ejecución           MSE        R²\n",
      "0          1  23522.139849  0.654189\n",
      "1          2  25365.832545  0.668223\n",
      "2          3  25376.602236  0.633037\n",
      "3          4  26717.280340  0.690478\n",
      "4          5  19235.911773  0.728799\n",
      "Promedio MSE: 24043.5533, Promedio R²: 0.6749\n",
      "Mediana MSE: 25365.8325, Mediana R²: 0.6682\n",
      "\n",
      "Resultados para 3 Componentes:\n",
      "   Ejecución           MSE        R²\n",
      "0          1  24187.422658  0.644408\n",
      "1          2  27290.959016  0.643042\n",
      "2          3  26864.286198  0.611525\n",
      "3          4  29420.284155  0.659163\n",
      "4          5  24092.591669  0.660326\n",
      "Promedio MSE: 26371.1087, Promedio R²: 0.6437\n",
      "Mediana MSE: 26864.2862, Mediana R²: 0.6444\n"
     ]
    }
   ],
   "source": [
    "resultados_totales = {}\n",
    "for n_componentes in componentes_lista:\n",
    "    resultados_totales[n_componentes] = evaluar_pca(X, y, n_componentes)"
   ]
  }
 ],
 "metadata": {
  "kernelspec": {
   "display_name": "ArtInt",
   "language": "python",
   "name": "python3"
  },
  "language_info": {
   "codemirror_mode": {
    "name": "ipython",
    "version": 3
   },
   "file_extension": ".py",
   "mimetype": "text/x-python",
   "name": "python",
   "nbconvert_exporter": "python",
   "pygments_lexer": "ipython3",
   "version": "3.9.20"
  }
 },
 "nbformat": 4,
 "nbformat_minor": 2
}
